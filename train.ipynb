{
 "cells": [
  {
   "cell_type": "code",
   "execution_count": 1,
   "metadata": {},
   "outputs": [],
   "source": [
    "import datetime\n",
    "import numpy as np\n",
    "import matplotlib.pyplot as plt\n",
    "from keras.layers import Input, Activation, Conv2D, Flatten, Dense, MaxPooling2D\n",
    "from keras.models import Model, load_model\n",
    "from keras.preprocessing.image import ImageDataGenerator\n",
    "from keras.callbacks import ModelCheckpoint, ReduceLROnPlateau\n",
    "plt.style.use('dark_background')"
   ]
  },
  {
   "cell_type": "markdown",
   "metadata": {},
   "source": [
    "# Load Dataset"
   ]
  },
  {
   "cell_type": "code",
   "execution_count": 2,
   "metadata": {},
   "outputs": [
    {
     "name": "stdout",
     "output_type": "stream",
     "text": [
      "(2586, 26, 34, 1) (2586, 1)\n",
      "(288, 26, 34, 1) (288, 1)\n"
     ]
    }
   ],
   "source": [
    "x_train = np.load('dataset/x_train.npy').astype(np.float32)\n",
    "y_train = np.load('dataset/y_train.npy').astype(np.float32)\n",
    "x_val = np.load('dataset/x_val.npy').astype(np.float32)\n",
    "y_val = np.load('dataset/y_val.npy').astype(np.float32)\n",
    "\n",
    "print(x_train.shape, y_train.shape)\n",
    "print(x_val.shape, y_val.shape)"
   ]
  },
  {
   "cell_type": "markdown",
   "metadata": {},
   "source": [
    "# Preview"
   ]
  },
  {
   "cell_type": "code",
   "execution_count": 4,
   "metadata": {},
   "outputs": [
    {
     "data": {
      "text/plain": [
       "<matplotlib.image.AxesImage at 0x19e0534d340>"
      ]
     },
     "execution_count": 4,
     "metadata": {},
     "output_type": "execute_result"
    },
    {
     "data": {
      "image/png": "[encoded data removed]",
      "text/plain": [
       "<Figure size 432x288 with 2 Axes>"
      ]
     },
     "metadata": {},
     "output_type": "display_data"
    }
   ],
   "source": [
    "plt.subplot(2, 1, 1)\n",
    "plt.title(str(y_train[0]))\n",
    "plt.imshow(x_train[0].reshape((26, 34)), cmap='gray')\n",
    "plt.subplot(2, 1, 2)\n",
    "plt.title(str(y_val[4]))\n",
    "plt.imshow(x_val[4].reshape((26, 34)), cmap='gray')"
   ]
  },
  {
   "cell_type": "markdown",
   "metadata": {},
   "source": [
    "# Data Augmentation"
   ]
  },
  {
   "cell_type": "code",
   "execution_count": 5,
   "metadata": {},
   "outputs": [],
   "source": [
    "train_datagen = ImageDataGenerator(\n",
    "    rescale=1./255,\n",
    "    rotation_range=10,\n",
    "    width_shift_range=0.2,\n",
    "    height_shift_range=0.2,\n",
    "    shear_range=0.2\n",
    ")\n",
    "\n",
    "val_datagen = ImageDataGenerator(rescale=1./255)\n",
    "\n",
    "train_generator = train_datagen.flow(\n",
    "    x=x_train, y=y_train,\n",
    "    batch_size=32,\n",
    "    shuffle=True\n",
    ")\n",
    "\n",
    "val_generator = val_datagen.flow(\n",
    "    x=x_val, y=y_val,\n",
    "    batch_size=32,\n",
    "    shuffle=False\n",
    ")"
   ]
  },
  {
   "cell_type": "markdown",
   "metadata": {},
   "source": [
    "# Build Model"
   ]
  },
  {
   "cell_type": "code",
   "execution_count": 6,
   "metadata": {},
   "outputs": [
    {
     "name": "stdout",
     "output_type": "stream",
     "text": [
      "Model: \"model\"\n",
      "_________________________________________________________________\n",
      " Layer (type)                Output Shape              Param #   \n",
      "=================================================================\n",
      " input_1 (InputLayer)        [(None, 26, 34, 1)]       0         \n",
      "                                                                 \n",
      " conv2d (Conv2D)             (None, 26, 34, 32)        320       \n",
      "                                                                 \n",
      " max_pooling2d (MaxPooling2D  (None, 13, 17, 32)       0         \n",
      " )                                                               \n",
      "                                                                 \n",
      " conv2d_1 (Conv2D)           (None, 13, 17, 64)        18496     \n",
      "                                                                 \n",
      " max_pooling2d_1 (MaxPooling  (None, 6, 8, 64)         0         \n",
      " 2D)                                                             \n",
      "                                                                 \n",
      " conv2d_2 (Conv2D)           (None, 6, 8, 128)         73856     \n",
      "                                                                 \n",
      " max_pooling2d_2 (MaxPooling  (None, 3, 4, 128)        0         \n",
      " 2D)                                                             \n",
      "                                                                 \n",
      " flatten (Flatten)           (None, 1536)              0         \n",
      "                                                                 \n",
      " dense (Dense)               (None, 512)               786944    \n",
      "                                                                 \n",
      " activation (Activation)     (None, 512)               0         \n",
      "                                                                 \n",
      " dense_1 (Dense)             (None, 1)                 513       \n",
      "                                                                 \n",
      " activation_1 (Activation)   (None, 1)                 0         \n",
      "                                                                 \n",
      "=================================================================\n",
      "Total params: 880,129\n",
      "Trainable params: 880,129\n",
      "Non-trainable params: 0\n",
      "_________________________________________________________________\n"
     ]
    }
   ],
   "source": [
    "inputs = Input(shape=(26, 34, 1))\n",
    "\n",
    "net = Conv2D(32, kernel_size=3, strides=1, padding='same', activation='relu')(inputs)\n",
    "net = MaxPooling2D(pool_size=2)(net)\n",
    "\n",
    "net = Conv2D(64, kernel_size=3, strides=1, padding='same', activation='relu')(net)\n",
    "net = MaxPooling2D(pool_size=2)(net)\n",
    "\n",
    "net = Conv2D(128, kernel_size=3, strides=1, padding='same', activation='relu')(net)\n",
    "net = MaxPooling2D(pool_size=2)(net)\n",
    "\n",
    "net = Flatten()(net)\n",
    "\n",
    "net = Dense(512)(net)\n",
    "net = Activation('relu')(net)\n",
    "net = Dense(1)(net)\n",
    "outputs = Activation('sigmoid')(net)\n",
    "\n",
    "model = Model(inputs=inputs, outputs=outputs)\n",
    "\n",
    "model.compile(optimizer='adam', loss='binary_crossentropy', metrics=['acc'])\n",
    "\n",
    "model.summary()"
   ]
  },
  {
   "cell_type": "markdown",
   "metadata": {},
   "source": [
    "# Train"
   ]
  },
  {
   "cell_type": "code",
   "execution_count": 7,
   "metadata": {
    "scrolled": true
   },
   "outputs": [
    {
     "name": "stdout",
     "output_type": "stream",
     "text": [
      "Epoch 1/50\n"
     ]
    },
    {
     "name": "stderr",
     "output_type": "stream",
     "text": [
      "<ipython-input-7-303b1247d547>:3: UserWarning: `Model.fit_generator` is deprecated and will be removed in a future version. Please use `Model.fit`, which supports generators.\n",
      "  model.fit_generator(\n"
     ]
    },
    {
     "name": "stdout",
     "output_type": "stream",
     "text": [
      "81/81 [==============================] - ETA: 0s - loss: 0.4727 - acc: 0.7769\n",
      "Epoch 1: val_acc improved from -inf to 0.87153, saving model to models\\2022_02_07_00_38_26.h5\n",
      "81/81 [==============================] - 2s 16ms/step - loss: 0.4727 - acc: 0.7769 - val_loss: 0.3597 - val_acc: 0.8715 - lr: 0.0010\n",
      "Epoch 2/50\n",
      "81/81 [==============================] - ETA: 0s - loss: 0.2606 - acc: 0.8987\n",
      "Epoch 2: val_acc improved from 0.87153 to 0.92708, saving model to models\\2022_02_07_00_38_26.h5\n",
      "81/81 [==============================] - 1s 15ms/step - loss: 0.2606 - acc: 0.8987 - val_loss: 0.1642 - val_acc: 0.9271 - lr: 0.0010\n",
      "Epoch 3/50\n",
      "81/81 [==============================] - ETA: 0s - loss: 0.1770 - acc: 0.9393\n",
      "Epoch 3: val_acc improved from 0.92708 to 0.93056, saving model to models\\2022_02_07_00_38_26.h5\n",
      "81/81 [==============================] - 1s 15ms/step - loss: 0.1770 - acc: 0.9393 - val_loss: 0.1618 - val_acc: 0.9306 - lr: 0.0010\n",
      "Epoch 4/50\n",
      "80/81 [============================>.] - ETA: 0s - loss: 0.1453 - acc: 0.9495\n",
      "Epoch 4: val_acc improved from 0.93056 to 0.97222, saving model to models\\2022_02_07_00_38_26.h5\n",
      "81/81 [==============================] - 1s 16ms/step - loss: 0.1460 - acc: 0.9497 - val_loss: 0.0858 - val_acc: 0.9722 - lr: 0.0010\n",
      "Epoch 5/50\n",
      "81/81 [==============================] - ETA: 0s - loss: 0.1306 - acc: 0.9567\n",
      "Epoch 5: val_acc did not improve from 0.97222\n",
      "81/81 [==============================] - 1s 15ms/step - loss: 0.1306 - acc: 0.9567 - val_loss: 0.1104 - val_acc: 0.9583 - lr: 0.0010\n",
      "Epoch 6/50\n",
      "81/81 [==============================] - ETA: 0s - loss: 0.1077 - acc: 0.9648\n",
      "Epoch 6: val_acc did not improve from 0.97222\n",
      "81/81 [==============================] - 1s 14ms/step - loss: 0.1077 - acc: 0.9648 - val_loss: 0.1197 - val_acc: 0.9618 - lr: 0.0010\n",
      "Epoch 7/50\n",
      "81/81 [==============================] - ETA: 0s - loss: 0.1052 - acc: 0.9656\n",
      "Epoch 7: val_acc did not improve from 0.97222\n",
      "81/81 [==============================] - 1s 15ms/step - loss: 0.1052 - acc: 0.9656 - val_loss: 0.1287 - val_acc: 0.9583 - lr: 0.0010\n",
      "Epoch 8/50\n",
      "81/81 [==============================] - ETA: 0s - loss: 0.0871 - acc: 0.9698\n",
      "Epoch 8: val_acc improved from 0.97222 to 0.97917, saving model to models\\2022_02_07_00_38_26.h5\n",
      "81/81 [==============================] - 1s 15ms/step - loss: 0.0871 - acc: 0.9698 - val_loss: 0.0950 - val_acc: 0.9792 - lr: 0.0010\n",
      "Epoch 9/50\n",
      "81/81 [==============================] - ETA: 0s - loss: 0.0765 - acc: 0.9772\n",
      "Epoch 9: val_acc did not improve from 0.97917\n",
      "81/81 [==============================] - 1s 15ms/step - loss: 0.0765 - acc: 0.9772 - val_loss: 0.0675 - val_acc: 0.9792 - lr: 0.0010\n",
      "Epoch 10/50\n",
      "81/81 [==============================] - ETA: 0s - loss: 0.0686 - acc: 0.9768\n",
      "Epoch 10: val_acc did not improve from 0.97917\n",
      "81/81 [==============================] - 1s 15ms/step - loss: 0.0686 - acc: 0.9768 - val_loss: 0.1362 - val_acc: 0.9688 - lr: 0.0010\n",
      "Epoch 11/50\n",
      "81/81 [==============================] - ETA: 0s - loss: 0.0720 - acc: 0.9733\n",
      "Epoch 11: val_acc improved from 0.97917 to 0.98264, saving model to models\\2022_02_07_00_38_26.h5\n",
      "81/81 [==============================] - 1s 15ms/step - loss: 0.0720 - acc: 0.9733 - val_loss: 0.0585 - val_acc: 0.9826 - lr: 0.0010\n",
      "Epoch 12/50\n",
      "81/81 [==============================] - ETA: 0s - loss: 0.0606 - acc: 0.9780\n",
      "Epoch 12: val_acc improved from 0.98264 to 0.98611, saving model to models\\2022_02_07_00_38_26.h5\n",
      "81/81 [==============================] - 1s 16ms/step - loss: 0.0606 - acc: 0.9780 - val_loss: 0.0493 - val_acc: 0.9861 - lr: 0.0010\n",
      "Epoch 13/50\n",
      "80/81 [============================>.] - ETA: 0s - loss: 0.0398 - acc: 0.9875\n",
      "Epoch 13: val_acc did not improve from 0.98611\n",
      "81/81 [==============================] - 1s 15ms/step - loss: 0.0395 - acc: 0.9876 - val_loss: 0.0653 - val_acc: 0.9757 - lr: 0.0010\n",
      "Epoch 14/50\n",
      "81/81 [==============================] - ETA: 0s - loss: 0.0462 - acc: 0.9849\n",
      "Epoch 14: val_acc did not improve from 0.98611\n",
      "81/81 [==============================] - 1s 18ms/step - loss: 0.0462 - acc: 0.9849 - val_loss: 0.0581 - val_acc: 0.9757 - lr: 0.0010\n",
      "Epoch 15/50\n",
      "81/81 [==============================] - ETA: 0s - loss: 0.0459 - acc: 0.9845\n",
      "Epoch 15: val_acc improved from 0.98611 to 0.99306, saving model to models\\2022_02_07_00_38_26.h5\n",
      "81/81 [==============================] - 1s 16ms/step - loss: 0.0459 - acc: 0.9845 - val_loss: 0.0226 - val_acc: 0.9931 - lr: 0.0010\n",
      "Epoch 16/50\n",
      "81/81 [==============================] - ETA: 0s - loss: 0.0382 - acc: 0.9899\n",
      "Epoch 16: val_acc did not improve from 0.99306\n",
      "81/81 [==============================] - 1s 16ms/step - loss: 0.0382 - acc: 0.9899 - val_loss: 0.0516 - val_acc: 0.9896 - lr: 0.0010\n",
      "Epoch 17/50\n",
      "81/81 [==============================] - ETA: 0s - loss: 0.0435 - acc: 0.9857\n",
      "Epoch 17: val_acc did not improve from 0.99306\n",
      "81/81 [==============================] - 1s 14ms/step - loss: 0.0435 - acc: 0.9857 - val_loss: 0.0829 - val_acc: 0.9861 - lr: 0.0010\n",
      "Epoch 18/50\n",
      "81/81 [==============================] - ETA: 0s - loss: 0.0473 - acc: 0.9849\n",
      "Epoch 18: val_acc did not improve from 0.99306\n",
      "81/81 [==============================] - 1s 15ms/step - loss: 0.0473 - acc: 0.9849 - val_loss: 0.0335 - val_acc: 0.9861 - lr: 0.0010\n",
      "Epoch 19/50\n",
      "81/81 [==============================] - ETA: 0s - loss: 0.0374 - acc: 0.9872\n",
      "Epoch 19: val_acc did not improve from 0.99306\n",
      "81/81 [==============================] - 1s 15ms/step - loss: 0.0374 - acc: 0.9872 - val_loss: 0.0449 - val_acc: 0.9931 - lr: 0.0010\n",
      "Epoch 20/50\n",
      "79/81 [============================>.] - ETA: 0s - loss: 0.0535 - acc: 0.9818\n",
      "Epoch 20: val_acc did not improve from 0.99306\n",
      "81/81 [==============================] - 1s 16ms/step - loss: 0.0528 - acc: 0.9818 - val_loss: 0.1068 - val_acc: 0.9826 - lr: 0.0010\n",
      "Epoch 21/50\n",
      "81/81 [==============================] - ETA: 0s - loss: 0.0437 - acc: 0.9861\n",
      "Epoch 21: val_acc did not improve from 0.99306\n",
      "81/81 [==============================] - 1s 15ms/step - loss: 0.0437 - acc: 0.9861 - val_loss: 0.0605 - val_acc: 0.9722 - lr: 0.0010\n",
      "Epoch 22/50\n",
      "81/81 [==============================] - ETA: 0s - loss: 0.0273 - acc: 0.9911\n",
      "Epoch 22: val_acc improved from 0.99306 to 0.99653, saving model to models\\2022_02_07_00_38_26.h5\n",
      "81/81 [==============================] - 1s 15ms/step - loss: 0.0273 - acc: 0.9911 - val_loss: 0.0385 - val_acc: 0.9965 - lr: 0.0010\n",
      "Epoch 23/50\n",
      "81/81 [==============================] - ETA: 0s - loss: 0.0248 - acc: 0.9927\n",
      "Epoch 23: val_acc did not improve from 0.99653\n",
      "81/81 [==============================] - 1s 15ms/step - loss: 0.0248 - acc: 0.9927 - val_loss: 0.0328 - val_acc: 0.9896 - lr: 0.0010\n",
      "Epoch 24/50\n",
      "81/81 [==============================] - ETA: 0s - loss: 0.0241 - acc: 0.9934\n",
      "Epoch 24: val_acc did not improve from 0.99653\n",
      "81/81 [==============================] - 1s 15ms/step - loss: 0.0241 - acc: 0.9934 - val_loss: 0.0510 - val_acc: 0.9896 - lr: 0.0010\n",
      "Epoch 25/50\n",
      "81/81 [==============================] - ETA: 0s - loss: 0.0390 - acc: 0.9869\n",
      "Epoch 25: val_acc did not improve from 0.99653\n",
      "81/81 [==============================] - 1s 15ms/step - loss: 0.0390 - acc: 0.9869 - val_loss: 0.0380 - val_acc: 0.9861 - lr: 0.0010\n",
      "Epoch 26/50\n",
      "81/81 [==============================] - ETA: 0s - loss: 0.0321 - acc: 0.9876\n",
      "Epoch 26: val_acc did not improve from 0.99653\n",
      "81/81 [==============================] - 1s 15ms/step - loss: 0.0321 - acc: 0.9876 - val_loss: 0.0405 - val_acc: 0.9896 - lr: 0.0010\n",
      "Epoch 27/50\n",
      "81/81 [==============================] - ETA: 0s - loss: 0.0202 - acc: 0.9927\n",
      "Epoch 27: val_acc did not improve from 0.99653\n",
      "81/81 [==============================] - 1s 15ms/step - loss: 0.0202 - acc: 0.9927 - val_loss: 0.0246 - val_acc: 0.9896 - lr: 0.0010\n",
      "Epoch 28/50\n",
      "81/81 [==============================] - ETA: 0s - loss: 0.0145 - acc: 0.9950\n",
      "Epoch 28: val_acc did not improve from 0.99653\n",
      "81/81 [==============================] - 1s 15ms/step - loss: 0.0145 - acc: 0.9950 - val_loss: 0.0774 - val_acc: 0.9861 - lr: 0.0010\n",
      "Epoch 29/50\n",
      "81/81 [==============================] - ETA: 0s - loss: 0.0216 - acc: 0.9942\n",
      "Epoch 29: val_acc did not improve from 0.99653\n",
      "81/81 [==============================] - 1s 15ms/step - loss: 0.0216 - acc: 0.9942 - val_loss: 0.0478 - val_acc: 0.9826 - lr: 0.0010\n"
     ]
    },
    {
     "name": "stdout",
     "output_type": "stream",
     "text": [
      "Epoch 30/50\n",
      "81/81 [==============================] - ETA: 0s - loss: 0.0209 - acc: 0.9930\n",
      "Epoch 30: val_acc did not improve from 0.99653\n",
      "81/81 [==============================] - 1s 15ms/step - loss: 0.0209 - acc: 0.9930 - val_loss: 0.0116 - val_acc: 0.9965 - lr: 0.0010\n",
      "Epoch 31/50\n",
      "81/81 [==============================] - ETA: 0s - loss: 0.0207 - acc: 0.9942\n",
      "Epoch 31: val_acc did not improve from 0.99653\n",
      "81/81 [==============================] - 1s 16ms/step - loss: 0.0207 - acc: 0.9942 - val_loss: 0.0472 - val_acc: 0.9861 - lr: 0.0010\n",
      "Epoch 32/50\n",
      "81/81 [==============================] - ETA: 0s - loss: 0.0227 - acc: 0.9911\n",
      "Epoch 32: val_acc did not improve from 0.99653\n",
      "\n",
      "Epoch 32: ReduceLROnPlateau reducing learning rate to 0.00020000000949949026.\n",
      "81/81 [==============================] - 1s 15ms/step - loss: 0.0227 - acc: 0.9911 - val_loss: 0.0583 - val_acc: 0.9861 - lr: 0.0010\n",
      "Epoch 33/50\n",
      "81/81 [==============================] - ETA: 0s - loss: 0.0149 - acc: 0.9950\n",
      "Epoch 33: val_acc did not improve from 0.99653\n",
      "81/81 [==============================] - 1s 15ms/step - loss: 0.0149 - acc: 0.9950 - val_loss: 0.0384 - val_acc: 0.9896 - lr: 2.0000e-04\n",
      "Epoch 34/50\n",
      "81/81 [==============================] - ETA: 0s - loss: 0.0127 - acc: 0.9957\n",
      "Epoch 34: val_acc did not improve from 0.99653\n",
      "81/81 [==============================] - 1s 14ms/step - loss: 0.0127 - acc: 0.9957 - val_loss: 0.0274 - val_acc: 0.9931 - lr: 2.0000e-04\n",
      "Epoch 35/50\n",
      "81/81 [==============================] - ETA: 0s - loss: 0.0090 - acc: 0.9969\n",
      "Epoch 35: val_acc did not improve from 0.99653\n",
      "81/81 [==============================] - 1s 15ms/step - loss: 0.0090 - acc: 0.9969 - val_loss: 0.0320 - val_acc: 0.9931 - lr: 2.0000e-04\n",
      "Epoch 36/50\n",
      "81/81 [==============================] - ETA: 0s - loss: 0.0081 - acc: 0.9973\n",
      "Epoch 36: val_acc did not improve from 0.99653\n",
      "81/81 [==============================] - 1s 14ms/step - loss: 0.0081 - acc: 0.9973 - val_loss: 0.0324 - val_acc: 0.9931 - lr: 2.0000e-04\n",
      "Epoch 37/50\n",
      "81/81 [==============================] - ETA: 0s - loss: 0.0084 - acc: 0.9969\n",
      "Epoch 37: val_acc did not improve from 0.99653\n",
      "81/81 [==============================] - 1s 16ms/step - loss: 0.0084 - acc: 0.9969 - val_loss: 0.0331 - val_acc: 0.9965 - lr: 2.0000e-04\n",
      "Epoch 38/50\n",
      "81/81 [==============================] - ETA: 0s - loss: 0.0050 - acc: 0.9985\n",
      "Epoch 38: val_acc did not improve from 0.99653\n",
      "81/81 [==============================] - 1s 16ms/step - loss: 0.0050 - acc: 0.9985 - val_loss: 0.0380 - val_acc: 0.9931 - lr: 2.0000e-04\n",
      "Epoch 39/50\n",
      "80/81 [============================>.] - ETA: 0s - loss: 0.0067 - acc: 0.9973\n",
      "Epoch 39: val_acc did not improve from 0.99653\n",
      "81/81 [==============================] - 1s 16ms/step - loss: 0.0066 - acc: 0.9973 - val_loss: 0.0305 - val_acc: 0.9965 - lr: 2.0000e-04\n",
      "Epoch 40/50\n",
      "81/81 [==============================] - ETA: 0s - loss: 0.0072 - acc: 0.9981\n",
      "Epoch 40: val_acc did not improve from 0.99653\n",
      "81/81 [==============================] - 1s 16ms/step - loss: 0.0072 - acc: 0.9981 - val_loss: 0.0318 - val_acc: 0.9965 - lr: 2.0000e-04\n",
      "Epoch 41/50\n",
      "81/81 [==============================] - ETA: 0s - loss: 0.0052 - acc: 0.9985\n",
      "Epoch 41: val_acc did not improve from 0.99653\n",
      "81/81 [==============================] - 1s 16ms/step - loss: 0.0052 - acc: 0.9985 - val_loss: 0.0262 - val_acc: 0.9965 - lr: 2.0000e-04\n",
      "Epoch 42/50\n",
      "81/81 [==============================] - ETA: 0s - loss: 0.0147 - acc: 0.9938\n",
      "Epoch 42: val_acc did not improve from 0.99653\n",
      "\n",
      "Epoch 42: ReduceLROnPlateau reducing learning rate to 4.0000001899898055e-05.\n",
      "81/81 [==============================] - 1s 16ms/step - loss: 0.0147 - acc: 0.9938 - val_loss: 0.0242 - val_acc: 0.9965 - lr: 2.0000e-04\n",
      "Epoch 43/50\n",
      "81/81 [==============================] - ETA: 0s - loss: 0.0041 - acc: 0.9988\n",
      "Epoch 43: val_acc did not improve from 0.99653\n",
      "81/81 [==============================] - 1s 15ms/step - loss: 0.0041 - acc: 0.9988 - val_loss: 0.0266 - val_acc: 0.9965 - lr: 4.0000e-05\n",
      "Epoch 44/50\n",
      "81/81 [==============================] - ETA: 0s - loss: 0.0051 - acc: 0.9977\n",
      "Epoch 44: val_acc did not improve from 0.99653\n",
      "81/81 [==============================] - 1s 15ms/step - loss: 0.0051 - acc: 0.9977 - val_loss: 0.0260 - val_acc: 0.9965 - lr: 4.0000e-05\n",
      "Epoch 45/50\n",
      "81/81 [==============================] - ETA: 0s - loss: 0.0064 - acc: 0.9988\n",
      "Epoch 45: val_acc did not improve from 0.99653\n",
      "81/81 [==============================] - 1s 15ms/step - loss: 0.0064 - acc: 0.9988 - val_loss: 0.0271 - val_acc: 0.9965 - lr: 4.0000e-05\n",
      "Epoch 46/50\n",
      "81/81 [==============================] - ETA: 0s - loss: 0.0042 - acc: 0.9996\n",
      "Epoch 46: val_acc did not improve from 0.99653\n",
      "81/81 [==============================] - 1s 15ms/step - loss: 0.0042 - acc: 0.9996 - val_loss: 0.0337 - val_acc: 0.9931 - lr: 4.0000e-05\n",
      "Epoch 47/50\n",
      "81/81 [==============================] - ETA: 0s - loss: 0.0054 - acc: 0.9981\n",
      "Epoch 47: val_acc did not improve from 0.99653\n",
      "81/81 [==============================] - 1s 15ms/step - loss: 0.0054 - acc: 0.9981 - val_loss: 0.0284 - val_acc: 0.9965 - lr: 4.0000e-05\n",
      "Epoch 48/50\n",
      "81/81 [==============================] - ETA: 0s - loss: 0.0026 - acc: 0.9996\n",
      "Epoch 48: val_acc did not improve from 0.99653\n",
      "81/81 [==============================] - 1s 15ms/step - loss: 0.0026 - acc: 0.9996 - val_loss: 0.0297 - val_acc: 0.9965 - lr: 4.0000e-05\n",
      "Epoch 49/50\n",
      "81/81 [==============================] - ETA: 0s - loss: 0.0039 - acc: 0.9988\n",
      "Epoch 49: val_acc did not improve from 0.99653\n",
      "81/81 [==============================] - 1s 14ms/step - loss: 0.0039 - acc: 0.9988 - val_loss: 0.0331 - val_acc: 0.9931 - lr: 4.0000e-05\n",
      "Epoch 50/50\n",
      "81/81 [==============================] - ETA: 0s - loss: 0.0069 - acc: 0.9977\n",
      "Epoch 50: val_acc did not improve from 0.99653\n",
      "81/81 [==============================] - 1s 15ms/step - loss: 0.0069 - acc: 0.9977 - val_loss: 0.0314 - val_acc: 0.9965 - lr: 4.0000e-05\n"
     ]
    },
    {
     "data": {
      "text/plain": [
       "<keras.callbacks.History at 0x19e054d7ac0>"
      ]
     },
     "execution_count": 7,
     "metadata": {},
     "output_type": "execute_result"
    }
   ],
   "source": [
    "start_time = datetime.datetime.now().strftime('%Y_%m_%d_%H_%M_%S')\n",
    "\n",
    "model.fit_generator(\n",
    "    train_generator, epochs=50, validation_data=val_generator,\n",
    "    callbacks=[\n",
    "        ModelCheckpoint('models/%s.h5' % (start_time), monitor='val_acc', save_best_only=True, mode='max', verbose=1),\n",
    "        ReduceLROnPlateau(monitor='val_acc', factor=0.2, patience=10, verbose=1, mode='auto', min_lr=1e-05)\n",
    "    ]\n",
    ")"
   ]
  },
  {
   "cell_type": "markdown",
   "metadata": {},
   "source": [
    "# Confusion Matrix"
   ]
  },
  {
   "cell_type": "code",
   "execution_count": 8,
   "metadata": {},
   "outputs": [
    {
     "name": "stdout",
     "output_type": "stream",
     "text": [
      "test acc: 0.9965277777777778\n"
     ]
    },
    {
     "name": "stderr",
     "output_type": "stream",
     "text": [
      "<ipython-input-8-2cdb396ae380>:7: DeprecationWarning: `np.int` is a deprecated alias for the builtin `int`. To silence this warning, use `int` by itself. Doing this will not modify any behavior and is safe. When replacing `np.int`, you may wish to use e.g. `np.int64` or `np.int32` to specify the precision. If you wish to review your current use, check the release note link for additional information.\n",
      "Deprecated in NumPy 1.20; for more details and guidance: https://numpy.org/devdocs/release/1.20.0-notes.html#deprecations\n",
      "  y_pred_logical = (y_pred > 0.5).astype(np.int)\n"
     ]
    },
    {
     "data": {
      "text/plain": [
       "<AxesSubplot:>"
      ]
     },
     "execution_count": 8,
     "metadata": {},
     "output_type": "execute_result"
    },
    {
     "data": {
      "image/png": "[encoded data removed]",
      "text/plain": [
       "<Figure size 432x288 with 2 Axes>"
      ]
     },
     "metadata": {},
     "output_type": "display_data"
    }
   ],
   "source": [
    "from sklearn.metrics import accuracy_score, confusion_matrix\n",
    "import seaborn as sns\n",
    "\n",
    "model = load_model('models/%s.h5' % (start_time))\n",
    "\n",
    "y_pred = model.predict(x_val/255.)\n",
    "y_pred_logical = (y_pred > 0.5).astype(np.int)\n",
    "\n",
    "print ('test acc: %s' % accuracy_score(y_val, y_pred_logical))\n",
    "cm = confusion_matrix(y_val, y_pred_logical)\n",
    "sns.heatmap(cm, annot=True)"
   ]
  },
  {
   "cell_type": "markdown",
   "metadata": {},
   "source": [
    "# Distribution of Prediction"
   ]
  },
  {
   "cell_type": "code",
   "execution_count": 9,
   "metadata": {},
   "outputs": [
    {
     "name": "stderr",
     "output_type": "stream",
     "text": [
      "C:\\Users\\mjk34\\anaconda3\\lib\\site-packages\\seaborn\\distributions.py:2551: FutureWarning: `distplot` is a deprecated function and will be removed in a future version. Please adapt your code to use either `displot` (a figure-level function with similar flexibility) or `histplot` (an axes-level function for histograms).\n",
      "  warnings.warn(msg, FutureWarning)\n"
     ]
    },
    {
     "data": {
      "image/png": "[encoded data removed]",
      "text/plain": [
       "<Figure size 432x288 with 1 Axes>"
      ]
     },
     "metadata": {},
     "output_type": "display_data"
    }
   ],
   "source": [
    "ax = sns.distplot(y_pred, kde=False)"
   ]
  },
  {
   "cell_type": "code",
   "execution_count": null,
   "metadata": {},
   "outputs": [],
   "source": []
  }
 ],
 "metadata": {
  "kernelspec": {
   "display_name": "Python 3",
   "language": "python",
   "name": "python3"
  },
  "language_info": {
   "codemirror_mode": {
    "name": "ipython",
    "version": 3
   },
   "file_extension": ".py",
   "mimetype": "text/x-python",
   "name": "python",
   "nbconvert_exporter": "python",
   "pygments_lexer": "ipython3",
   "version": "3.8.5"
  }
 },
 "nbformat": 4,
 "nbformat_minor": 2
}
